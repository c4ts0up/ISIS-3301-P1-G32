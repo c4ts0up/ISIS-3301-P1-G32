{
 "cells": [
  {
   "cell_type": "code",
   "execution_count": 95,
   "id": "initial_id",
   "metadata": {
    "collapsed": true,
    "ExecuteTime": {
     "end_time": "2024-04-20T18:17:08.697546800Z",
     "start_time": "2024-04-20T18:17:08.671241100Z"
    }
   },
   "outputs": [],
   "source": [
    "import stanza\n",
    "\n",
    "from sklearn.base import BaseEstimator, TransformerMixin\n",
    "\n",
    "\n",
    "class Preprocesser(BaseEstimator, TransformerMixin):\n",
    "    \n",
    "    def fit(self, X, y=None):\n",
    "        return self\n",
    "    \n",
    "    \n",
    "    def transform(self, X):\n",
    "        alfa = 0.05\n",
    "        beta = 0.05\n",
    "        \n",
    "        # eliminación de nulos\n",
    "        df_work = X.dropna()\n",
    "        # eliminación de duplicados\n",
    "        df_work = df_work.drop_duplicates()\n",
    "        \n",
    "        # eliminación de longitudes atípicas\n",
    "        df_work['Conteo'] = [len(x.split()) for x in df_work['Review']]\n",
    "        upper = df_work['Conteo'].quantile(1-beta)\n",
    "        lower = df_work['Conteo'].quantile(alfa)\n",
    "        # menores que percentil mayor\n",
    "        df_work = df_work[df_work['Conteo'] <= upper]\n",
    "        # mayores que percentil menor\n",
    "        df_work = df_work[df_work['Conteo'] >= lower]\n",
    "\n",
    "        df_work = df_work.drop(['Conteo'], axis=1)\n",
    "        \n",
    "        return df_work\n"
   ]
  },
  {
   "cell_type": "code",
   "outputs": [],
   "source": [
    "class Lemmatizer(BaseEstimator, TransformerMixin):\n",
    "    \n",
    "    def __init__(self):\n",
    "        self.stanza_pipeline = stanza.Pipeline(lang=\"es\", processors=\"tokenize,mwt,pos,lemma\")\n",
    "    \n",
    "    \n",
    "    def fit(self, X, y=None):\n",
    "        return self\n",
    "    \n",
    "    \n",
    "    def stanza_preprocessing(self, words):\n",
    "        doc = self.stanza_pipeline(words)\n",
    "        lemmas = [w.lemma for w in doc.sentences[0].words]\n",
    "        return lemmas\n",
    "    \n",
    "    def transform(self, X):\n",
    "        print(\"Lemmatize transformation...\")\n",
    "        df_work = X\n",
    "        df_work['Review'] = df_work['Review'].apply(self.stanza_preprocessing)\n",
    "        return df_work\n",
    "    \n",
    "    def __getstate__(self):\n",
    "        # Exclude the stanza_pipeline from serialization\n",
    "        state = self.__dict__.copy()\n",
    "        del state['stanza_pipeline']\n",
    "        return state\n",
    "\n",
    "    def __setstate__(self, state):\n",
    "        # Restore the stanza_pipeline during deserialization\n",
    "        self.__dict__.update(state)\n",
    "        self.stanza_pipeline = stanza.Pipeline(lang=\"es\", processors=\"tokenize,mwt,pos,lemma\")\n",
    "    "
   ],
   "metadata": {
    "collapsed": false,
    "ExecuteTime": {
     "end_time": "2024-04-20T18:17:08.748434600Z",
     "start_time": "2024-04-20T18:17:08.703983300Z"
    }
   },
   "id": "e5fcb5a795fdfd5",
   "execution_count": 96
  },
  {
   "cell_type": "code",
   "outputs": [],
   "source": [
    "import nltk\n",
    "import re\n",
    "import unicodedata\n",
    "\n",
    "def clean_text(words):\n",
    "    \"\"\"\n",
    "    Cleans the list of words by performing various operations.\n",
    "\n",
    "    :param words: (list) List of words to be cleaned.\n",
    "    :returns: (list) Cleaned list of words.\n",
    "    \"\"\"\n",
    "    words = [w.lower() for w in words]  # Lowercase\n",
    "    words = [re.sub(r'[^\\w\\s]', '', word) for word in words if word is not None]  # Remove punctuation\n",
    "    words = [unicodedata.normalize('NFKD', word).encode('utf-8', 'ignore').decode('utf-8', 'ignore') for word in words]  # Remove non-encoded characters\n",
    "    languages = ['spanish']\n",
    "    stopword = nltk.corpus.stopwords.words(languages)\n",
    "    return [w for w in words if w not in stopword]  # Remove stopwords\n",
    "\n",
    "\n",
    "class PostCleaner(BaseEstimator, TransformerMixin):\n",
    "    \n",
    "    def __init__(self, cleaning_func):\n",
    "        self.cleaning_func = cleaning_func\n",
    "    \n",
    "    def fit(self, X, y=None):\n",
    "        return self\n",
    "    \n",
    "    \n",
    "    def transform(self, X):\n",
    "        print(\"Post lemmatization cleaning transformation...\")\n",
    "        df_work = X.copy()\n",
    "        df_work['Review'] = df_work['Review'].apply(self.cleaning_func)\n",
    "        return df_work\n",
    "    "
   ],
   "metadata": {
    "collapsed": false,
    "ExecuteTime": {
     "end_time": "2024-04-20T18:17:08.777740500Z",
     "start_time": "2024-04-20T18:17:08.750598800Z"
    }
   },
   "id": "f0eb507fcb4daab4",
   "execution_count": 97
  },
  {
   "cell_type": "code",
   "outputs": [],
   "source": [
    "from copy import deepcopy\n",
    "from sklearn.feature_extraction.text import TfidfVectorizer\n",
    "\n",
    "\n",
    "class Vectorizer(BaseEstimator, TransformerMixin):\n",
    "    \n",
    "    def __init__(self):\n",
    "        self.vectorizer_algorithm = TfidfVectorizer(\n",
    "            decode_error='ignore',\n",
    "            strip_accents='ascii',\n",
    "            analyzer='word',\n",
    "            max_features=10000,\n",
    "        )\n",
    "        self.features = None\n",
    "        \n",
    "        # remiendo. En la primera pasada, se genera el vocabulario\n",
    "        self.already_fit = False\n",
    "        \n",
    "    \n",
    "    def fit(self, X, y=None):\n",
    "        return self\n",
    "    \n",
    "    \n",
    "    def transform(self, X):\n",
    "        data_stringfied = deepcopy(X)\n",
    "        data_stringfied['Review'] = data_stringfied['Review'].apply(lambda x: ' '.join(map(str, x)))\n",
    "        \n",
    "        x_data = data_stringfied['Review']\n",
    "        \n",
    "        if self.already_fit:\n",
    "            print(\"Vocabulario ya definido...\")        \n",
    "            x_data_vectorized_matrix = self.vectorizer_algorithm.transform(x_data)\n",
    "        else:\n",
    "            print(\"Creando vocabulario...\")\n",
    "            x_data_vectorized_matrix = self.vectorizer_algorithm.fit_transform(x_data)\n",
    "            \n",
    "        x_data_vectorized_df = pd.DataFrame(x_data_vectorized_matrix.toarray())  # ... for additional features from csr_matrix\n",
    "        \n",
    "        # obtiene el arreglo de palabras con columnas\n",
    "        self.features = self.vectorizer_algorithm.get_feature_names_out()\n",
    "        self.already_fit = True\n",
    "        \n",
    "        res = pd.concat([x_data_vectorized_df], axis=1)\n",
    "        \n",
    "        return res\n",
    "    "
   ],
   "metadata": {
    "collapsed": false,
    "ExecuteTime": {
     "end_time": "2024-04-20T18:17:08.803626500Z",
     "start_time": "2024-04-20T18:17:08.783422600Z"
    }
   },
   "id": "522ee32868b60e89",
   "execution_count": 98
  },
  {
   "cell_type": "code",
   "outputs": [
    {
     "name": "stderr",
     "output_type": "stream",
     "text": [
      "2024-04-20 13:17:08 INFO: Checking for updates to resources.json in case models have been updated.  Note: this behavior can be turned off with download_method=None or download_method=DownloadMethod.REUSE_RESOURCES\n"
     ]
    },
    {
     "data": {
      "text/plain": "Downloading https://raw.githubusercontent.com/stanfordnlp/stanza-resources/main/resources_1.8.0.json:   0%|   …",
      "application/vnd.jupyter.widget-view+json": {
       "version_major": 2,
       "version_minor": 0,
       "model_id": "2647548568034d9da1fc7d9ed36fbaca"
      }
     },
     "metadata": {},
     "output_type": "display_data"
    },
    {
     "name": "stderr",
     "output_type": "stream",
     "text": [
      "2024-04-20 13:17:09 INFO: Downloaded file to C:\\Users\\alvar\\stanza_resources\\resources.json\n",
      "2024-04-20 13:17:10 INFO: Loading these models for language: es (Spanish):\n",
      "===============================\n",
      "| Processor | Package         |\n",
      "-------------------------------\n",
      "| tokenize  | ancora          |\n",
      "| mwt       | ancora          |\n",
      "| pos       | ancora_charlm   |\n",
      "| lemma     | ancora_nocharlm |\n",
      "===============================\n",
      "\n",
      "2024-04-20 13:17:10 INFO: Using device: cpu\n",
      "2024-04-20 13:17:10 INFO: Loading: tokenize\n",
      "2024-04-20 13:17:10 INFO: Loading: mwt\n",
      "2024-04-20 13:17:10 INFO: Loading: pos\n",
      "2024-04-20 13:17:10 INFO: Loading: lemma\n",
      "2024-04-20 13:17:10 INFO: Done loading processors!\n"
     ]
    }
   ],
   "source": [
    "from sklearn.svm import SVC\n",
    "from sklearn.pipeline import Pipeline\n",
    "\n",
    "pipeline = Pipeline(\n",
    "    steps=[\n",
    "        ('lemmatizer', Lemmatizer()),\n",
    "        ('post-cleaner', PostCleaner(cleaning_func=clean_text)),\n",
    "        ('vectorizer', Vectorizer()),\n",
    "        ('classifier', SVC(kernel='rbf', C=1, probability=True))\n",
    "    ]\n",
    ")"
   ],
   "metadata": {
    "collapsed": false,
    "ExecuteTime": {
     "end_time": "2024-04-20T18:17:10.919287700Z",
     "start_time": "2024-04-20T18:17:08.806628300Z"
    }
   },
   "id": "e152d107744a3465",
   "execution_count": 99
  },
  {
   "cell_type": "code",
   "outputs": [
    {
     "name": "stdout",
     "output_type": "stream",
     "text": [
      "(170, 1) <class 'pandas.core.frame.DataFrame'>\n",
      "(170,) <class 'pandas.core.series.Series'>\n",
      "(43, 1) <class 'pandas.core.frame.DataFrame'>\n",
      "(43,) <class 'pandas.core.series.Series'>\n"
     ]
    }
   ],
   "source": [
    "from sklearn.model_selection import train_test_split\n",
    "import pandas as pd\n",
    "\n",
    "df_big = pd.read_csv('../data/raw/tipo2_entrenamiento_estudiantes.csv', sep=',', encoding = 'utf-8')\n",
    "df = df_big.sample(frac=0.03)\n",
    "\n",
    "df = Preprocesser().fit_transform(df)\n",
    "\n",
    "xtr, xts, ytr, yts = train_test_split(df['Review'], df['Class'], test_size=0.2, random_state=42069)\n",
    "xtr = pd.DataFrame(xtr)\n",
    "xts = pd.DataFrame(xts)\n",
    "print(xtr.shape, type(xtr))\n",
    "print(ytr.shape, type(ytr))\n",
    "print(xts.shape, type(xts))\n",
    "print(yts.shape, type(yts))"
   ],
   "metadata": {
    "collapsed": false,
    "ExecuteTime": {
     "end_time": "2024-04-20T18:17:11.070857700Z",
     "start_time": "2024-04-20T18:17:10.910128300Z"
    }
   },
   "id": "d33c92640583d311",
   "execution_count": 100
  },
  {
   "cell_type": "code",
   "outputs": [
    {
     "name": "stdout",
     "output_type": "stream",
     "text": [
      "Lemmatize transformation...\n",
      "Post lemmatization cleaning transformation...\n",
      "Creando vocabulario...\n"
     ]
    },
    {
     "data": {
      "text/plain": "Pipeline(steps=[('lemmatizer', Lemmatizer()),\n                ('post-cleaner',\n                 PostCleaner(cleaning_func=<function clean_text at 0x000002114A7C4D60>)),\n                ('vectorizer', Vectorizer()),\n                ('classifier', SVC(C=1, probability=True))])",
      "text/html": "<style>#sk-container-id-6 {\n  /* Definition of color scheme common for light and dark mode */\n  --sklearn-color-text: black;\n  --sklearn-color-line: gray;\n  /* Definition of color scheme for unfitted estimators */\n  --sklearn-color-unfitted-level-0: #fff5e6;\n  --sklearn-color-unfitted-level-1: #f6e4d2;\n  --sklearn-color-unfitted-level-2: #ffe0b3;\n  --sklearn-color-unfitted-level-3: chocolate;\n  /* Definition of color scheme for fitted estimators */\n  --sklearn-color-fitted-level-0: #f0f8ff;\n  --sklearn-color-fitted-level-1: #d4ebff;\n  --sklearn-color-fitted-level-2: #b3dbfd;\n  --sklearn-color-fitted-level-3: cornflowerblue;\n\n  /* Specific color for light theme */\n  --sklearn-color-text-on-default-background: var(--sg-text-color, var(--theme-code-foreground, var(--jp-content-font-color1, black)));\n  --sklearn-color-background: var(--sg-background-color, var(--theme-background, var(--jp-layout-color0, white)));\n  --sklearn-color-border-box: var(--sg-text-color, var(--theme-code-foreground, var(--jp-content-font-color1, black)));\n  --sklearn-color-icon: #696969;\n\n  @media (prefers-color-scheme: dark) {\n    /* Redefinition of color scheme for dark theme */\n    --sklearn-color-text-on-default-background: var(--sg-text-color, var(--theme-code-foreground, var(--jp-content-font-color1, white)));\n    --sklearn-color-background: var(--sg-background-color, var(--theme-background, var(--jp-layout-color0, #111)));\n    --sklearn-color-border-box: var(--sg-text-color, var(--theme-code-foreground, var(--jp-content-font-color1, white)));\n    --sklearn-color-icon: #878787;\n  }\n}\n\n#sk-container-id-6 {\n  color: var(--sklearn-color-text);\n}\n\n#sk-container-id-6 pre {\n  padding: 0;\n}\n\n#sk-container-id-6 input.sk-hidden--visually {\n  border: 0;\n  clip: rect(1px 1px 1px 1px);\n  clip: rect(1px, 1px, 1px, 1px);\n  height: 1px;\n  margin: -1px;\n  overflow: hidden;\n  padding: 0;\n  position: absolute;\n  width: 1px;\n}\n\n#sk-container-id-6 div.sk-dashed-wrapped {\n  border: 1px dashed var(--sklearn-color-line);\n  margin: 0 0.4em 0.5em 0.4em;\n  box-sizing: border-box;\n  padding-bottom: 0.4em;\n  background-color: var(--sklearn-color-background);\n}\n\n#sk-container-id-6 div.sk-container {\n  /* jupyter's `normalize.less` sets `[hidden] { display: none; }`\n     but bootstrap.min.css set `[hidden] { display: none !important; }`\n     so we also need the `!important` here to be able to override the\n     default hidden behavior on the sphinx rendered scikit-learn.org.\n     See: https://github.com/scikit-learn/scikit-learn/issues/21755 */\n  display: inline-block !important;\n  position: relative;\n}\n\n#sk-container-id-6 div.sk-text-repr-fallback {\n  display: none;\n}\n\ndiv.sk-parallel-item,\ndiv.sk-serial,\ndiv.sk-item {\n  /* draw centered vertical line to link estimators */\n  background-image: linear-gradient(var(--sklearn-color-text-on-default-background), var(--sklearn-color-text-on-default-background));\n  background-size: 2px 100%;\n  background-repeat: no-repeat;\n  background-position: center center;\n}\n\n/* Parallel-specific style estimator block */\n\n#sk-container-id-6 div.sk-parallel-item::after {\n  content: \"\";\n  width: 100%;\n  border-bottom: 2px solid var(--sklearn-color-text-on-default-background);\n  flex-grow: 1;\n}\n\n#sk-container-id-6 div.sk-parallel {\n  display: flex;\n  align-items: stretch;\n  justify-content: center;\n  background-color: var(--sklearn-color-background);\n  position: relative;\n}\n\n#sk-container-id-6 div.sk-parallel-item {\n  display: flex;\n  flex-direction: column;\n}\n\n#sk-container-id-6 div.sk-parallel-item:first-child::after {\n  align-self: flex-end;\n  width: 50%;\n}\n\n#sk-container-id-6 div.sk-parallel-item:last-child::after {\n  align-self: flex-start;\n  width: 50%;\n}\n\n#sk-container-id-6 div.sk-parallel-item:only-child::after {\n  width: 0;\n}\n\n/* Serial-specific style estimator block */\n\n#sk-container-id-6 div.sk-serial {\n  display: flex;\n  flex-direction: column;\n  align-items: center;\n  background-color: var(--sklearn-color-background);\n  padding-right: 1em;\n  padding-left: 1em;\n}\n\n\n/* Toggleable style: style used for estimator/Pipeline/ColumnTransformer box that is\nclickable and can be expanded/collapsed.\n- Pipeline and ColumnTransformer use this feature and define the default style\n- Estimators will overwrite some part of the style using the `sk-estimator` class\n*/\n\n/* Pipeline and ColumnTransformer style (default) */\n\n#sk-container-id-6 div.sk-toggleable {\n  /* Default theme specific background. It is overwritten whether we have a\n  specific estimator or a Pipeline/ColumnTransformer */\n  background-color: var(--sklearn-color-background);\n}\n\n/* Toggleable label */\n#sk-container-id-6 label.sk-toggleable__label {\n  cursor: pointer;\n  display: block;\n  width: 100%;\n  margin-bottom: 0;\n  padding: 0.5em;\n  box-sizing: border-box;\n  text-align: center;\n}\n\n#sk-container-id-6 label.sk-toggleable__label-arrow:before {\n  /* Arrow on the left of the label */\n  content: \"▸\";\n  float: left;\n  margin-right: 0.25em;\n  color: var(--sklearn-color-icon);\n}\n\n#sk-container-id-6 label.sk-toggleable__label-arrow:hover:before {\n  color: var(--sklearn-color-text);\n}\n\n/* Toggleable content - dropdown */\n\n#sk-container-id-6 div.sk-toggleable__content {\n  max-height: 0;\n  max-width: 0;\n  overflow: hidden;\n  text-align: left;\n  /* unfitted */\n  background-color: var(--sklearn-color-unfitted-level-0);\n}\n\n#sk-container-id-6 div.sk-toggleable__content.fitted {\n  /* fitted */\n  background-color: var(--sklearn-color-fitted-level-0);\n}\n\n#sk-container-id-6 div.sk-toggleable__content pre {\n  margin: 0.2em;\n  border-radius: 0.25em;\n  color: var(--sklearn-color-text);\n  /* unfitted */\n  background-color: var(--sklearn-color-unfitted-level-0);\n}\n\n#sk-container-id-6 div.sk-toggleable__content.fitted pre {\n  /* unfitted */\n  background-color: var(--sklearn-color-fitted-level-0);\n}\n\n#sk-container-id-6 input.sk-toggleable__control:checked~div.sk-toggleable__content {\n  /* Expand drop-down */\n  max-height: 200px;\n  max-width: 100%;\n  overflow: auto;\n}\n\n#sk-container-id-6 input.sk-toggleable__control:checked~label.sk-toggleable__label-arrow:before {\n  content: \"▾\";\n}\n\n/* Pipeline/ColumnTransformer-specific style */\n\n#sk-container-id-6 div.sk-label input.sk-toggleable__control:checked~label.sk-toggleable__label {\n  color: var(--sklearn-color-text);\n  background-color: var(--sklearn-color-unfitted-level-2);\n}\n\n#sk-container-id-6 div.sk-label.fitted input.sk-toggleable__control:checked~label.sk-toggleable__label {\n  background-color: var(--sklearn-color-fitted-level-2);\n}\n\n/* Estimator-specific style */\n\n/* Colorize estimator box */\n#sk-container-id-6 div.sk-estimator input.sk-toggleable__control:checked~label.sk-toggleable__label {\n  /* unfitted */\n  background-color: var(--sklearn-color-unfitted-level-2);\n}\n\n#sk-container-id-6 div.sk-estimator.fitted input.sk-toggleable__control:checked~label.sk-toggleable__label {\n  /* fitted */\n  background-color: var(--sklearn-color-fitted-level-2);\n}\n\n#sk-container-id-6 div.sk-label label.sk-toggleable__label,\n#sk-container-id-6 div.sk-label label {\n  /* The background is the default theme color */\n  color: var(--sklearn-color-text-on-default-background);\n}\n\n/* On hover, darken the color of the background */\n#sk-container-id-6 div.sk-label:hover label.sk-toggleable__label {\n  color: var(--sklearn-color-text);\n  background-color: var(--sklearn-color-unfitted-level-2);\n}\n\n/* Label box, darken color on hover, fitted */\n#sk-container-id-6 div.sk-label.fitted:hover label.sk-toggleable__label.fitted {\n  color: var(--sklearn-color-text);\n  background-color: var(--sklearn-color-fitted-level-2);\n}\n\n/* Estimator label */\n\n#sk-container-id-6 div.sk-label label {\n  font-family: monospace;\n  font-weight: bold;\n  display: inline-block;\n  line-height: 1.2em;\n}\n\n#sk-container-id-6 div.sk-label-container {\n  text-align: center;\n}\n\n/* Estimator-specific */\n#sk-container-id-6 div.sk-estimator {\n  font-family: monospace;\n  border: 1px dotted var(--sklearn-color-border-box);\n  border-radius: 0.25em;\n  box-sizing: border-box;\n  margin-bottom: 0.5em;\n  /* unfitted */\n  background-color: var(--sklearn-color-unfitted-level-0);\n}\n\n#sk-container-id-6 div.sk-estimator.fitted {\n  /* fitted */\n  background-color: var(--sklearn-color-fitted-level-0);\n}\n\n/* on hover */\n#sk-container-id-6 div.sk-estimator:hover {\n  /* unfitted */\n  background-color: var(--sklearn-color-unfitted-level-2);\n}\n\n#sk-container-id-6 div.sk-estimator.fitted:hover {\n  /* fitted */\n  background-color: var(--sklearn-color-fitted-level-2);\n}\n\n/* Specification for estimator info (e.g. \"i\" and \"?\") */\n\n/* Common style for \"i\" and \"?\" */\n\n.sk-estimator-doc-link,\na:link.sk-estimator-doc-link,\na:visited.sk-estimator-doc-link {\n  float: right;\n  font-size: smaller;\n  line-height: 1em;\n  font-family: monospace;\n  background-color: var(--sklearn-color-background);\n  border-radius: 1em;\n  height: 1em;\n  width: 1em;\n  text-decoration: none !important;\n  margin-left: 1ex;\n  /* unfitted */\n  border: var(--sklearn-color-unfitted-level-1) 1pt solid;\n  color: var(--sklearn-color-unfitted-level-1);\n}\n\n.sk-estimator-doc-link.fitted,\na:link.sk-estimator-doc-link.fitted,\na:visited.sk-estimator-doc-link.fitted {\n  /* fitted */\n  border: var(--sklearn-color-fitted-level-1) 1pt solid;\n  color: var(--sklearn-color-fitted-level-1);\n}\n\n/* On hover */\ndiv.sk-estimator:hover .sk-estimator-doc-link:hover,\n.sk-estimator-doc-link:hover,\ndiv.sk-label-container:hover .sk-estimator-doc-link:hover,\n.sk-estimator-doc-link:hover {\n  /* unfitted */\n  background-color: var(--sklearn-color-unfitted-level-3);\n  color: var(--sklearn-color-background);\n  text-decoration: none;\n}\n\ndiv.sk-estimator.fitted:hover .sk-estimator-doc-link.fitted:hover,\n.sk-estimator-doc-link.fitted:hover,\ndiv.sk-label-container:hover .sk-estimator-doc-link.fitted:hover,\n.sk-estimator-doc-link.fitted:hover {\n  /* fitted */\n  background-color: var(--sklearn-color-fitted-level-3);\n  color: var(--sklearn-color-background);\n  text-decoration: none;\n}\n\n/* Span, style for the box shown on hovering the info icon */\n.sk-estimator-doc-link span {\n  display: none;\n  z-index: 9999;\n  position: relative;\n  font-weight: normal;\n  right: .2ex;\n  padding: .5ex;\n  margin: .5ex;\n  width: min-content;\n  min-width: 20ex;\n  max-width: 50ex;\n  color: var(--sklearn-color-text);\n  box-shadow: 2pt 2pt 4pt #999;\n  /* unfitted */\n  background: var(--sklearn-color-unfitted-level-0);\n  border: .5pt solid var(--sklearn-color-unfitted-level-3);\n}\n\n.sk-estimator-doc-link.fitted span {\n  /* fitted */\n  background: var(--sklearn-color-fitted-level-0);\n  border: var(--sklearn-color-fitted-level-3);\n}\n\n.sk-estimator-doc-link:hover span {\n  display: block;\n}\n\n/* \"?\"-specific style due to the `<a>` HTML tag */\n\n#sk-container-id-6 a.estimator_doc_link {\n  float: right;\n  font-size: 1rem;\n  line-height: 1em;\n  font-family: monospace;\n  background-color: var(--sklearn-color-background);\n  border-radius: 1rem;\n  height: 1rem;\n  width: 1rem;\n  text-decoration: none;\n  /* unfitted */\n  color: var(--sklearn-color-unfitted-level-1);\n  border: var(--sklearn-color-unfitted-level-1) 1pt solid;\n}\n\n#sk-container-id-6 a.estimator_doc_link.fitted {\n  /* fitted */\n  border: var(--sklearn-color-fitted-level-1) 1pt solid;\n  color: var(--sklearn-color-fitted-level-1);\n}\n\n/* On hover */\n#sk-container-id-6 a.estimator_doc_link:hover {\n  /* unfitted */\n  background-color: var(--sklearn-color-unfitted-level-3);\n  color: var(--sklearn-color-background);\n  text-decoration: none;\n}\n\n#sk-container-id-6 a.estimator_doc_link.fitted:hover {\n  /* fitted */\n  background-color: var(--sklearn-color-fitted-level-3);\n}\n</style><div id=\"sk-container-id-6\" class=\"sk-top-container\"><div class=\"sk-text-repr-fallback\"><pre>Pipeline(steps=[(&#x27;lemmatizer&#x27;, Lemmatizer()),\n                (&#x27;post-cleaner&#x27;,\n                 PostCleaner(cleaning_func=&lt;function clean_text at 0x000002114A7C4D60&gt;)),\n                (&#x27;vectorizer&#x27;, Vectorizer()),\n                (&#x27;classifier&#x27;, SVC(C=1, probability=True))])</pre><b>In a Jupyter environment, please rerun this cell to show the HTML representation or trust the notebook. <br />On GitHub, the HTML representation is unable to render, please try loading this page with nbviewer.org.</b></div><div class=\"sk-container\" hidden><div class=\"sk-item sk-dashed-wrapped\"><div class=\"sk-label-container\"><div class=\"sk-label fitted sk-toggleable\"><input class=\"sk-toggleable__control sk-hidden--visually\" id=\"sk-estimator-id-18\" type=\"checkbox\" ><label for=\"sk-estimator-id-18\" class=\"sk-toggleable__label fitted sk-toggleable__label-arrow fitted\">&nbsp;&nbsp;Pipeline<a class=\"sk-estimator-doc-link fitted\" rel=\"noreferrer\" target=\"_blank\" href=\"https://scikit-learn.org/1.4/modules/generated/sklearn.pipeline.Pipeline.html\">?<span>Documentation for Pipeline</span></a><span class=\"sk-estimator-doc-link fitted\">i<span>Fitted</span></span></label><div class=\"sk-toggleable__content fitted\"><pre>Pipeline(steps=[(&#x27;lemmatizer&#x27;, Lemmatizer()),\n                (&#x27;post-cleaner&#x27;,\n                 PostCleaner(cleaning_func=&lt;function clean_text at 0x000002114A7C4D60&gt;)),\n                (&#x27;vectorizer&#x27;, Vectorizer()),\n                (&#x27;classifier&#x27;, SVC(C=1, probability=True))])</pre></div> </div></div><div class=\"sk-serial\"><div class=\"sk-item\"><div class=\"sk-estimator fitted sk-toggleable\"><input class=\"sk-toggleable__control sk-hidden--visually\" id=\"sk-estimator-id-19\" type=\"checkbox\" ><label for=\"sk-estimator-id-19\" class=\"sk-toggleable__label fitted sk-toggleable__label-arrow fitted\">Lemmatizer</label><div class=\"sk-toggleable__content fitted\"><pre>Lemmatizer()</pre></div> </div></div><div class=\"sk-item\"><div class=\"sk-estimator fitted sk-toggleable\"><input class=\"sk-toggleable__control sk-hidden--visually\" id=\"sk-estimator-id-20\" type=\"checkbox\" ><label for=\"sk-estimator-id-20\" class=\"sk-toggleable__label fitted sk-toggleable__label-arrow fitted\">PostCleaner</label><div class=\"sk-toggleable__content fitted\"><pre>PostCleaner(cleaning_func=&lt;function clean_text at 0x000002114A7C4D60&gt;)</pre></div> </div></div><div class=\"sk-item\"><div class=\"sk-estimator fitted sk-toggleable\"><input class=\"sk-toggleable__control sk-hidden--visually\" id=\"sk-estimator-id-21\" type=\"checkbox\" ><label for=\"sk-estimator-id-21\" class=\"sk-toggleable__label fitted sk-toggleable__label-arrow fitted\">Vectorizer</label><div class=\"sk-toggleable__content fitted\"><pre>Vectorizer()</pre></div> </div></div><div class=\"sk-item\"><div class=\"sk-estimator fitted sk-toggleable\"><input class=\"sk-toggleable__control sk-hidden--visually\" id=\"sk-estimator-id-22\" type=\"checkbox\" ><label for=\"sk-estimator-id-22\" class=\"sk-toggleable__label fitted sk-toggleable__label-arrow fitted\">&nbsp;SVC<a class=\"sk-estimator-doc-link fitted\" rel=\"noreferrer\" target=\"_blank\" href=\"https://scikit-learn.org/1.4/modules/generated/sklearn.svm.SVC.html\">?<span>Documentation for SVC</span></a></label><div class=\"sk-toggleable__content fitted\"><pre>SVC(C=1, probability=True)</pre></div> </div></div></div></div></div></div>"
     },
     "execution_count": 101,
     "metadata": {},
     "output_type": "execute_result"
    }
   ],
   "source": [
    "pipeline.fit(xtr, ytr)"
   ],
   "metadata": {
    "collapsed": false,
    "ExecuteTime": {
     "end_time": "2024-04-20T18:18:47.299405700Z",
     "start_time": "2024-04-20T18:17:11.073461400Z"
    }
   },
   "id": "6041d9c308c1a1c6",
   "execution_count": 101
  },
  {
   "cell_type": "code",
   "outputs": [
    {
     "data": {
      "text/plain": "array(['10', '1010', '1120', '1230am', '130am', '15', '180', '18092015',\n       '19', '20', '200ds', '2013', '25', '30', '300', '34', '45', '715',\n       '730', '8pm', '9pm', 'abajo', 'ac', 'acabado', 'acabar', 'acceder',\n       'accesible', 'acceso', 'aceptable', 'acer', 'acero',\n       'acondicionado', 'acorde', 'actividad', 'adaptar', 'ademas',\n       'ademo', 'admirar', 'agosto', 'agradable', 'agrado', 'agua', 'ahi',\n       'ahora', 'ahorratar', 'aire', 'alberca', 'alcoholico', 'alfombra',\n       'alguno', 'alimento', 'alli', 'alma', 'almohada', 'alojamiento',\n       'alojar', 'alrededor', 'alto', 'ama', 'amable', 'amargura',\n       'ambiental', 'ambiente', 'ambulante', 'americana', 'americas',\n       'amigo', 'amistad', 'amor', 'amurallado', 'angelopoli', 'animal',\n       'ano', 'antepasado', 'antiguedad', 'antiguo', 'aparte', 'apestar',\n       'apestoso', 'apreciar', 'aprender', 'aquel', 'aqui', 'argumentar',\n       'arquitectonicamente', 'arquitectura', 'arrastrar', 'arriba',\n       'arte', 'artesania', 'asado', 'asi', 'asombrar', 'asombroso',\n       'aspecto', 'atencion', 'atender', 'atraccion', 'atreverse', 'aun',\n       'aunque', 'autobus', 'avanzado', 'avenida', 'aventura',\n       'averiguar', 'ayer', 'ayuda', 'bajar', 'bajo', 'bandalismo',\n       'bano', 'bar', 'barato', 'barranquilla', 'barrio', 'bastante',\n       'basura', 'bb', 'bebida', 'belleza', 'bellisimo', 'bello',\n       'biblioteca', 'bien', 'bienvenida', 'bocagrande', 'bodeguita',\n       'bombillo', 'bonito', 'boton', 'breve', 'brindar', 'buen',\n       'buenobonitobarato', 'bufete', 'buffet', 'buscar', 'cabaret',\n       'cabeza', 'cabo', 'cabrito', 'cada', 'cadena', 'caer', 'cafe',\n       'calefaccion', 'calidad', 'calido', 'caliente', 'calle', 'calor',\n       'calzone', 'cama', 'cambiar', 'camila', 'caminado', 'caminar',\n       'caminata', 'cantidad', 'caribeno', 'carne', 'caro', 'carta',\n       'cartagena', 'casa', 'casi', 'castillo', 'castroso', 'catalogar',\n       'catedral', 'cayo', 'cena', 'cenar', 'central', 'centrico',\n       'centro', 'cerca', 'cerveza', 'chaya', 'chi', 'chica', 'chico',\n       'chis', 'chiva', 'ciao', 'ciclo', 'cielo', 'cierto', 'cima',\n       'cine', 'cita', 'citermex', 'ciudad', 'claustrofobico', 'clima',\n       'cobija', 'cobrar', 'cocida', 'cocina', 'coco', 'coctel',\n       'cocteleria', 'coger', 'cola', 'colchon', 'colocar', 'colonia',\n       'comentario', 'comer', 'comercial', 'comercio', 'comida', 'comodo',\n       'comparacion', 'complejo', 'completado', 'comprar', 'concierto',\n       'condicion', 'conductor', 'confiar', 'conocer', 'consejo',\n       'conservar', 'considerar', 'constante', 'constar', 'construccion',\n       'contacto', 'contar', 'contiguo', 'contratar', 'conversar',\n       'convertir', 'cordialidad', 'corte', 'cortesia', 'corto', 'cosa',\n       'costanera', 'costo', 'crecer', 'cruzar', 'cual', 'cualquiera',\n       'cuba', 'cubano', 'cucaracha', 'cuenta', 'cuesta', 'cuete',\n       'cuidado', 'cuidar', 'culto', 'cultura', 'cumpleanos', 'curiosear',\n       'danar', 'dar', 'dato', 'deber', 'decar', 'decente', 'decepcion',\n       'decidir', 'decir', 'decoracion', 'decorado', 'definitivamente',\n       'dejar', 'dejear', 'delfin', 'delicioso', 'delincuencia',\n       'delirio', 'dema', 'demanda', 'demasiado', 'demeritar', 'demorar',\n       'dentro', 'derrumbado', 'desayunar', 'desayuno', 'descansar',\n       'descanso', 'descanzar', 'desconosido', 'descuidado', 'desear',\n       'desencanto', 'desgracia', 'desocupar', 'despar', 'despues',\n       'destacado', 'destacar', 'destinado', 'destino', 'detalle',\n       'detener', 'dever', 'devolucion', 'di', 'dia', 'diaz', 'diferente',\n       'dinero', 'dios', 'disculpar', 'disfrutar', 'divertido',\n       'divinidad', 'domingo', 'doquier', 'dormir', 'dos', 'duda',\n       'dudar', 'dueno', 'eco', 'economico', 'edificio', 'educado',\n       'educativo', 'eh', 'ejemplo', 'el', 'elaborado', 'elegante', 'em',\n       'embargo', 'emblema', 'empleado', 'empresa', 'encantar', 'encanto',\n       'encontrar', 'encuentro', 'enfrente', 'enfriar', 'enriquecer',\n       'ensuciar', 'entender', 'entorno', 'entrada', 'entrar', 'entregar',\n       'entrenido', 'entretenido', 'enviar', 'escalera', 'escuchareis',\n       'esfuerzo', 'espacio', 'espana', 'especial', 'especialmente',\n       'especie', 'espectacular', 'espectaculo', 'espectular', 'espera',\n       'esperar', 'espiritual', 'esplendor', 'esposa', 'esposo',\n       'establecimiento', 'estacionamiento', 'estadia', 'estafa',\n       'estafado', 'estancia', 'estandar', 'estilo', 'estrella',\n       'estructura', 'estupendo', 'europa', 'europeo', 'evento', 'evita',\n       'excelente', 'excesivamente', 'exhibir', 'exiquito', 'experiencia',\n       'explicar', 'expresar', 'extorsionador', 'extorsionar', 'extra',\n       'extraordinario', 'facilmente', 'falta', 'faltar', 'familia',\n       'famoso', 'fecha', 'fenomenal', 'feo', 'feria', 'fiesta', 'fila',\n       'fin', 'final', 'fisico', 'folclore', 'forma', 'foto',\n       'fotografia', 'fresco', 'frio', 'frito', 'fruta', 'fuerte',\n       'fundamental', 'fundido', 'fundidora', 'gana', 'gastronomia',\n       'general', 'generar', 'genial', 'gente', 'geografia', 'grado',\n       'graffitis', 'gran', 'grande', 'gratis', 'grosero', 'guarida',\n       'guia', 'gustar', 'gusto', 'gustoso', 'habana', 'haber',\n       'habitacion', 'hablar', 'hacer', 'hacia', 'hall', 'hard', 'havana',\n       'havanna', 'hermoso', 'herrera', 'hija', 'hijo', 'hilton',\n       'historia', 'historico', 'hola', 'holer', 'hora', 'horrible',\n       'hospedar', 'hospedir', 'hostal', 'hotel', 'hotelero', 'hoy',\n       'humedad', 'ideal', 'igual', 'iluminacion', 'imagen', 'impactado',\n       'imperdible', 'impersonal', 'implicar', 'imponente', 'importar',\n       'importunar', 'impregnado', 'impresion', 'impresionante',\n       'imresionante', 'inagurado', 'incluir', 'increible', 'industrial',\n       'informativo', 'ingresar', 'inhabilitado', 'iniciar', 'inn',\n       'inolvidable', 'insecto', 'insistir', 'instalacion',\n       'insuficiente', 'interesante', 'interior', 'internacional', 'ir',\n       'ironicamente', 'isla', 'jueves', 'junto', 'laborar', 'lado',\n       'largo', 'lavar', 'lejos', 'leonos', 'leyenda', 'libre', 'libro',\n       'limitado', 'limpiar', 'limpieza', 'limpio', 'limpisimo', 'lindo',\n       'linea', 'lista', 'living', 'llamado', 'llave', 'llegar', 'lleno',\n       'llevar', 'local', 'localizado', 'lograr', 'losa', 'luego',\n       'lugar', 'lujo', 'luna', 'luz', 'madera', 'maestro', 'magia',\n       'magnifico', 'mal', 'mala', 'malecon', 'malisimo', 'malo',\n       'manana', 'manera', 'mangear', 'mango', 'mantener',\n       'mantenimiento', 'mar', 'maravilla', 'maravilloso', 'marquesina',\n       'mas', 'matar', 'materia', 'maya', 'mayoria', 'medellin',\n       'medidor', 'medio', 'mejor', 'melia', 'mencionar', 'menos', 'menu',\n       'mercado', 'merecer', 'mereder', 'merida', 'mesa', 'meter',\n       'metro', 'metrocable', 'mexicano', 'mexico', 'miedo', 'mientras',\n       'millon', 'min', 'mina', 'mineral', 'minero', 'minuto', 'mirar',\n       'mision', 'mismo', 'mobiliario', 'moderadamente', 'moderno',\n       'mojito', 'mojitos', 'momento', 'momia', 'montaje', 'montejo',\n       'monterrey', 'monton', 'mori', 'muchisimo', 'multiple',\n       'multipropiedad', 'muncho', 'mundo', 'museo', 'museos', 'musica',\n       'nacional', 'naranjado', 'nardos', 'natural', 'navidad',\n       'necesario', 'necesidad', 'necesitar', 'negocio', 'negro',\n       'nevera', 'ninguno', 'nino', 'nivel', 'noche', 'nocturno',\n       'noviembre', 'novio', 'nuevo', 'nunca', 'nutria', 'obligado',\n       'obra', 'observar', 'obtener', 'ocasion', 'ofrecer', 'oir',\n       'ojalar', 'ok', 'olor', 'onda', 'opcion', 'operacion', 'operario',\n       'opinion', 'oportunidad', 'ordenado', 'ordenar', 'organizado',\n       'orin', 'orizaba', 'oscuridad', 'osi', 'padrisimo', 'pagar',\n       'pago', 'pais', 'paisaje', 'pajaro', 'palabra', 'palacio',\n       'palmada', 'paloma', 'panorama', 'panoramico', 'paquete',\n       'parametro', 'parar', 'parecer', 'parecido', 'pareja', 'parque',\n       'parte', 'pasado', 'pasar', 'pasear', 'paseo', 'paz', 'pecera',\n       'pedido', 'pedir', 'pena', 'pensar', 'peor', 'pequenito',\n       'pequeno', 'per', 'perder', 'perfecto', 'permitir', 'persona',\n       'personal', 'pesimo', 'peso', 'peste', 'pez', 'piel', 'pieza',\n       'pileta', 'pintura', 'piramide', 'pisar', 'piscina', 'piso',\n       'pizza', 'placer', 'plan', 'plancha', 'planear', 'planta',\n       'platicar', 'plato', 'playa', 'plaza', 'plazita', 'pleno', 'pm',\n       'poder', 'porfirio', 'porqueria', 'portal', 'poseer',\n       'posibilidad', 'positivo', 'postre', 'precaucion', 'precentacion',\n       'precio', 'precioso', 'precolombino', 'preparatar', 'presentar',\n       'primer', 'primero', 'principal', 'principio', 'probado', 'probar',\n       'prometer', 'promocion', 'promover', 'propiedad', 'propietario',\n       'proteccion', 'provenir', 'proximidad', 'proximo', 'proyectar',\n       'puebla', 'pueblo', 'pues', 'punto', 'qse', 'quedar', 'querer',\n       'quinto', 'rapido', 'razon', 'realmente', 'recamara', 'recepcion',\n       'recepcionista', 'recibir', 'recientemente', 'reclamar',\n       'recoemndar', 'recomendable', 'recomendado', 'recomendar',\n       'recomer', 'reconocido', 'recorrer', 'recorrido', 'reforma',\n       'regular', 'reina', 'rellano', 'remodelacion', 'remodelado',\n       'renovacion', 'repleto', 'reputacion', 'requerir', 'reserva',\n       'reservado', 'reservar', 'respecto', 'respetar', 'respir',\n       'respirar', 'restaurant', 'restaurante', 'resto', 'resultar',\n       'resumir', 'reunion', 'reunir', 'reve', 'revivir', 'rico',\n       'rincon', 'riquisimo', 'rock', 'romantico', 'room', 'roto',\n       'ruido', 'sabado', 'sabiduria', 'sabor', 'salir', 'santo',\n       'secadora', 'sector', 'seguir', 'seguridad', 'seguro', 'seleccion',\n       'semana', 'sencillamente', 'sensacion', 'sentir', 'ser', 'service',\n       'servicial', 'servicio', 'servir', 'si', 'siempre', 'silla',\n       'similar', 'simple', 'simplemente', 'sitio', 'situado',\n       'socializar', 'sofisticado', 'solo', 'sonar', 'sonido', 'spa',\n       'subida', 'subir', 'subrealista', 'sucio', 'sucursal',\n       'suficiente', 'sugerir', 'super', 'superior', 'suponer', 'tambien',\n       'tampoco', 'tardar', 'tarde', 'tarifa', 'taxi', 'teatro',\n       'tedioso', 'telefono', 'temprano', 'tener', 'terminar', 'termino',\n       'terraza', 'terrible', 'tetero', 'tiburon', 'tiempo', 'tienda',\n       'tierra', 'timo', 'tipico', 'tipo', 'toalla', 'tocar', 'tomar',\n       'tono', 'torre', 'total', 'tour', 'tours', 'trabajador',\n       'trabajar', 'traer', 'trago', 'trampa', 'tranquilidad',\n       'tranquilo', 'transporte', 'trasladar', 'tratar', 'treinta',\n       'tres', 'trip', 'tripadvisor', 'triste', 'tu', 'turismo',\n       'turista', 'ubicacion', 'ubicado', 'unico', 'urbano', 'urgente',\n       'utilizado', 'utilizar', 'valer', 'valia', 'varadero', 'variable',\n       'variado', 'variedad', 'varios', 'vedado', 'vendedor', 'vender',\n       'ver', 'verda', 'verdad', 'verde', 'vez', 'viajar', 'viaje',\n       'vida', 'vidanto', 'vidrio', 'vieja', 'viejo', 'virtud', 'visita',\n       'visitante', 'visitar', 'vista', 'vistas', 'vivir', 'vivo',\n       'volver', 'vuelta', 'web', 'yucatan', 'zona'], dtype=object)"
     },
     "execution_count": 102,
     "metadata": {},
     "output_type": "execute_result"
    }
   ],
   "source": [
    "train_features = pipeline[2].features\n",
    "train_features"
   ],
   "metadata": {
    "collapsed": false,
    "ExecuteTime": {
     "end_time": "2024-04-20T18:18:47.303029100Z",
     "start_time": "2024-04-20T18:18:47.289020600Z"
    }
   },
   "id": "4657030f1325fa2d",
   "execution_count": 102
  },
  {
   "cell_type": "code",
   "outputs": [
    {
     "name": "stdout",
     "output_type": "stream",
     "text": [
      "Lemmatize transformation...\n",
      "Post lemmatization cleaning transformation...\n",
      "Vocabulario ya definido...\n"
     ]
    },
    {
     "data": {
      "text/plain": "0.27906976744186046"
     },
     "execution_count": 103,
     "metadata": {},
     "output_type": "execute_result"
    }
   ],
   "source": [
    "pipeline.score(xts, yts)"
   ],
   "metadata": {
    "collapsed": false,
    "ExecuteTime": {
     "end_time": "2024-04-20T18:22:49.231209800Z",
     "start_time": "2024-04-20T18:22:20.483757900Z"
    }
   },
   "id": "3181e7a012c4557",
   "execution_count": 103
  },
  {
   "cell_type": "code",
   "outputs": [
    {
     "data": {
      "text/plain": "     Review\n0  favorito",
      "text/html": "<div>\n<style scoped>\n    .dataframe tbody tr th:only-of-type {\n        vertical-align: middle;\n    }\n\n    .dataframe tbody tr th {\n        vertical-align: top;\n    }\n\n    .dataframe thead th {\n        text-align: right;\n    }\n</style>\n<table border=\"1\" class=\"dataframe\">\n  <thead>\n    <tr style=\"text-align: right;\">\n      <th></th>\n      <th>Review</th>\n    </tr>\n  </thead>\n  <tbody>\n    <tr>\n      <th>0</th>\n      <td>favorito</td>\n    </tr>\n  </tbody>\n</table>\n</div>"
     },
     "execution_count": 104,
     "metadata": {},
     "output_type": "execute_result"
    }
   ],
   "source": [
    "pred = pd.DataFrame({'Review': ['favorito']})\n",
    "pred"
   ],
   "metadata": {
    "collapsed": false,
    "ExecuteTime": {
     "end_time": "2024-04-20T18:25:26.786425400Z",
     "start_time": "2024-04-20T18:25:26.762156800Z"
    }
   },
   "id": "574087a1a41a1a9",
   "execution_count": 104
  },
  {
   "cell_type": "code",
   "outputs": [
    {
     "name": "stdout",
     "output_type": "stream",
     "text": [
      "Lemmatize transformation...\n",
      "Post lemmatization cleaning transformation...\n",
      "Vocabulario ya definido...\n"
     ]
    },
    {
     "data": {
      "text/plain": "array([[0.12870395, 0.16333828, 0.20812274, 0.17812203, 0.32171299]])"
     },
     "execution_count": 105,
     "metadata": {},
     "output_type": "execute_result"
    }
   ],
   "source": [
    "pipeline.predict_proba(pred)"
   ],
   "metadata": {
    "collapsed": false,
    "ExecuteTime": {
     "end_time": "2024-04-20T18:25:49.006130300Z",
     "start_time": "2024-04-20T18:25:48.914139800Z"
    }
   },
   "id": "d4eb745a27c461c4",
   "execution_count": 105
  },
  {
   "cell_type": "code",
   "outputs": [
    {
     "data": {
      "text/plain": "['../models/svm7.joblib']"
     },
     "execution_count": 106,
     "metadata": {},
     "output_type": "execute_result"
    }
   ],
   "source": [
    "from joblib import dump\n",
    "# dump vectorizer\n",
    "dump(pipeline['vectorizer'], '../models/vf7.joblib')\n",
    "dump(pipeline, '../models/svm7.joblib')"
   ],
   "metadata": {
    "collapsed": false,
    "ExecuteTime": {
     "end_time": "2024-04-20T18:27:52.173549500Z",
     "start_time": "2024-04-20T18:27:51.241024200Z"
    }
   },
   "id": "9ba3373876b93cfb",
   "execution_count": 106
  },
  {
   "cell_type": "code",
   "outputs": [
    {
     "name": "stderr",
     "output_type": "stream",
     "text": [
      "2024-04-20 13:30:14 INFO: Checking for updates to resources.json in case models have been updated.  Note: this behavior can be turned off with download_method=None or download_method=DownloadMethod.REUSE_RESOURCES\n"
     ]
    },
    {
     "data": {
      "text/plain": "Downloading https://raw.githubusercontent.com/stanfordnlp/stanza-resources/main/resources_1.8.0.json:   0%|   …",
      "application/vnd.jupyter.widget-view+json": {
       "version_major": 2,
       "version_minor": 0,
       "model_id": "d1eafa217a9e48088885ca85168f4f9c"
      }
     },
     "metadata": {},
     "output_type": "display_data"
    },
    {
     "name": "stderr",
     "output_type": "stream",
     "text": [
      "2024-04-20 13:30:15 INFO: Downloaded file to C:\\Users\\alvar\\stanza_resources\\resources.json\n",
      "2024-04-20 13:30:15 INFO: Loading these models for language: es (Spanish):\n",
      "===============================\n",
      "| Processor | Package         |\n",
      "-------------------------------\n",
      "| tokenize  | ancora          |\n",
      "| mwt       | ancora          |\n",
      "| pos       | ancora_charlm   |\n",
      "| lemma     | ancora_nocharlm |\n",
      "===============================\n",
      "\n",
      "2024-04-20 13:30:15 INFO: Using device: cpu\n",
      "2024-04-20 13:30:15 INFO: Loading: tokenize\n",
      "2024-04-20 13:30:15 INFO: Loading: mwt\n",
      "2024-04-20 13:30:16 INFO: Loading: pos\n",
      "2024-04-20 13:30:17 INFO: Loading: lemma\n",
      "2024-04-20 13:30:17 INFO: Done loading processors!\n"
     ]
    },
    {
     "data": {
      "text/plain": "array(['10', '1010', '1120', '1230am', '130am', '15', '180', '18092015',\n       '19', '20', '200ds', '2013', '25', '30', '300', '34', '45', '715',\n       '730', '8pm', '9pm', 'abajo', 'ac', 'acabado', 'acabar', 'acceder',\n       'accesible', 'acceso', 'aceptable', 'acer', 'acero',\n       'acondicionado', 'acorde', 'actividad', 'adaptar', 'ademas',\n       'ademo', 'admirar', 'agosto', 'agradable', 'agrado', 'agua', 'ahi',\n       'ahora', 'ahorratar', 'aire', 'alberca', 'alcoholico', 'alfombra',\n       'alguno', 'alimento', 'alli', 'alma', 'almohada', 'alojamiento',\n       'alojar', 'alrededor', 'alto', 'ama', 'amable', 'amargura',\n       'ambiental', 'ambiente', 'ambulante', 'americana', 'americas',\n       'amigo', 'amistad', 'amor', 'amurallado', 'angelopoli', 'animal',\n       'ano', 'antepasado', 'antiguedad', 'antiguo', 'aparte', 'apestar',\n       'apestoso', 'apreciar', 'aprender', 'aquel', 'aqui', 'argumentar',\n       'arquitectonicamente', 'arquitectura', 'arrastrar', 'arriba',\n       'arte', 'artesania', 'asado', 'asi', 'asombrar', 'asombroso',\n       'aspecto', 'atencion', 'atender', 'atraccion', 'atreverse', 'aun',\n       'aunque', 'autobus', 'avanzado', 'avenida', 'aventura',\n       'averiguar', 'ayer', 'ayuda', 'bajar', 'bajo', 'bandalismo',\n       'bano', 'bar', 'barato', 'barranquilla', 'barrio', 'bastante',\n       'basura', 'bb', 'bebida', 'belleza', 'bellisimo', 'bello',\n       'biblioteca', 'bien', 'bienvenida', 'bocagrande', 'bodeguita',\n       'bombillo', 'bonito', 'boton', 'breve', 'brindar', 'buen',\n       'buenobonitobarato', 'bufete', 'buffet', 'buscar', 'cabaret',\n       'cabeza', 'cabo', 'cabrito', 'cada', 'cadena', 'caer', 'cafe',\n       'calefaccion', 'calidad', 'calido', 'caliente', 'calle', 'calor',\n       'calzone', 'cama', 'cambiar', 'camila', 'caminado', 'caminar',\n       'caminata', 'cantidad', 'caribeno', 'carne', 'caro', 'carta',\n       'cartagena', 'casa', 'casi', 'castillo', 'castroso', 'catalogar',\n       'catedral', 'cayo', 'cena', 'cenar', 'central', 'centrico',\n       'centro', 'cerca', 'cerveza', 'chaya', 'chi', 'chica', 'chico',\n       'chis', 'chiva', 'ciao', 'ciclo', 'cielo', 'cierto', 'cima',\n       'cine', 'cita', 'citermex', 'ciudad', 'claustrofobico', 'clima',\n       'cobija', 'cobrar', 'cocida', 'cocina', 'coco', 'coctel',\n       'cocteleria', 'coger', 'cola', 'colchon', 'colocar', 'colonia',\n       'comentario', 'comer', 'comercial', 'comercio', 'comida', 'comodo',\n       'comparacion', 'complejo', 'completado', 'comprar', 'concierto',\n       'condicion', 'conductor', 'confiar', 'conocer', 'consejo',\n       'conservar', 'considerar', 'constante', 'constar', 'construccion',\n       'contacto', 'contar', 'contiguo', 'contratar', 'conversar',\n       'convertir', 'cordialidad', 'corte', 'cortesia', 'corto', 'cosa',\n       'costanera', 'costo', 'crecer', 'cruzar', 'cual', 'cualquiera',\n       'cuba', 'cubano', 'cucaracha', 'cuenta', 'cuesta', 'cuete',\n       'cuidado', 'cuidar', 'culto', 'cultura', 'cumpleanos', 'curiosear',\n       'danar', 'dar', 'dato', 'deber', 'decar', 'decente', 'decepcion',\n       'decidir', 'decir', 'decoracion', 'decorado', 'definitivamente',\n       'dejar', 'dejear', 'delfin', 'delicioso', 'delincuencia',\n       'delirio', 'dema', 'demanda', 'demasiado', 'demeritar', 'demorar',\n       'dentro', 'derrumbado', 'desayunar', 'desayuno', 'descansar',\n       'descanso', 'descanzar', 'desconosido', 'descuidado', 'desear',\n       'desencanto', 'desgracia', 'desocupar', 'despar', 'despues',\n       'destacado', 'destacar', 'destinado', 'destino', 'detalle',\n       'detener', 'dever', 'devolucion', 'di', 'dia', 'diaz', 'diferente',\n       'dinero', 'dios', 'disculpar', 'disfrutar', 'divertido',\n       'divinidad', 'domingo', 'doquier', 'dormir', 'dos', 'duda',\n       'dudar', 'dueno', 'eco', 'economico', 'edificio', 'educado',\n       'educativo', 'eh', 'ejemplo', 'el', 'elaborado', 'elegante', 'em',\n       'embargo', 'emblema', 'empleado', 'empresa', 'encantar', 'encanto',\n       'encontrar', 'encuentro', 'enfrente', 'enfriar', 'enriquecer',\n       'ensuciar', 'entender', 'entorno', 'entrada', 'entrar', 'entregar',\n       'entrenido', 'entretenido', 'enviar', 'escalera', 'escuchareis',\n       'esfuerzo', 'espacio', 'espana', 'especial', 'especialmente',\n       'especie', 'espectacular', 'espectaculo', 'espectular', 'espera',\n       'esperar', 'espiritual', 'esplendor', 'esposa', 'esposo',\n       'establecimiento', 'estacionamiento', 'estadia', 'estafa',\n       'estafado', 'estancia', 'estandar', 'estilo', 'estrella',\n       'estructura', 'estupendo', 'europa', 'europeo', 'evento', 'evita',\n       'excelente', 'excesivamente', 'exhibir', 'exiquito', 'experiencia',\n       'explicar', 'expresar', 'extorsionador', 'extorsionar', 'extra',\n       'extraordinario', 'facilmente', 'falta', 'faltar', 'familia',\n       'famoso', 'fecha', 'fenomenal', 'feo', 'feria', 'fiesta', 'fila',\n       'fin', 'final', 'fisico', 'folclore', 'forma', 'foto',\n       'fotografia', 'fresco', 'frio', 'frito', 'fruta', 'fuerte',\n       'fundamental', 'fundido', 'fundidora', 'gana', 'gastronomia',\n       'general', 'generar', 'genial', 'gente', 'geografia', 'grado',\n       'graffitis', 'gran', 'grande', 'gratis', 'grosero', 'guarida',\n       'guia', 'gustar', 'gusto', 'gustoso', 'habana', 'haber',\n       'habitacion', 'hablar', 'hacer', 'hacia', 'hall', 'hard', 'havana',\n       'havanna', 'hermoso', 'herrera', 'hija', 'hijo', 'hilton',\n       'historia', 'historico', 'hola', 'holer', 'hora', 'horrible',\n       'hospedar', 'hospedir', 'hostal', 'hotel', 'hotelero', 'hoy',\n       'humedad', 'ideal', 'igual', 'iluminacion', 'imagen', 'impactado',\n       'imperdible', 'impersonal', 'implicar', 'imponente', 'importar',\n       'importunar', 'impregnado', 'impresion', 'impresionante',\n       'imresionante', 'inagurado', 'incluir', 'increible', 'industrial',\n       'informativo', 'ingresar', 'inhabilitado', 'iniciar', 'inn',\n       'inolvidable', 'insecto', 'insistir', 'instalacion',\n       'insuficiente', 'interesante', 'interior', 'internacional', 'ir',\n       'ironicamente', 'isla', 'jueves', 'junto', 'laborar', 'lado',\n       'largo', 'lavar', 'lejos', 'leonos', 'leyenda', 'libre', 'libro',\n       'limitado', 'limpiar', 'limpieza', 'limpio', 'limpisimo', 'lindo',\n       'linea', 'lista', 'living', 'llamado', 'llave', 'llegar', 'lleno',\n       'llevar', 'local', 'localizado', 'lograr', 'losa', 'luego',\n       'lugar', 'lujo', 'luna', 'luz', 'madera', 'maestro', 'magia',\n       'magnifico', 'mal', 'mala', 'malecon', 'malisimo', 'malo',\n       'manana', 'manera', 'mangear', 'mango', 'mantener',\n       'mantenimiento', 'mar', 'maravilla', 'maravilloso', 'marquesina',\n       'mas', 'matar', 'materia', 'maya', 'mayoria', 'medellin',\n       'medidor', 'medio', 'mejor', 'melia', 'mencionar', 'menos', 'menu',\n       'mercado', 'merecer', 'mereder', 'merida', 'mesa', 'meter',\n       'metro', 'metrocable', 'mexicano', 'mexico', 'miedo', 'mientras',\n       'millon', 'min', 'mina', 'mineral', 'minero', 'minuto', 'mirar',\n       'mision', 'mismo', 'mobiliario', 'moderadamente', 'moderno',\n       'mojito', 'mojitos', 'momento', 'momia', 'montaje', 'montejo',\n       'monterrey', 'monton', 'mori', 'muchisimo', 'multiple',\n       'multipropiedad', 'muncho', 'mundo', 'museo', 'museos', 'musica',\n       'nacional', 'naranjado', 'nardos', 'natural', 'navidad',\n       'necesario', 'necesidad', 'necesitar', 'negocio', 'negro',\n       'nevera', 'ninguno', 'nino', 'nivel', 'noche', 'nocturno',\n       'noviembre', 'novio', 'nuevo', 'nunca', 'nutria', 'obligado',\n       'obra', 'observar', 'obtener', 'ocasion', 'ofrecer', 'oir',\n       'ojalar', 'ok', 'olor', 'onda', 'opcion', 'operacion', 'operario',\n       'opinion', 'oportunidad', 'ordenado', 'ordenar', 'organizado',\n       'orin', 'orizaba', 'oscuridad', 'osi', 'padrisimo', 'pagar',\n       'pago', 'pais', 'paisaje', 'pajaro', 'palabra', 'palacio',\n       'palmada', 'paloma', 'panorama', 'panoramico', 'paquete',\n       'parametro', 'parar', 'parecer', 'parecido', 'pareja', 'parque',\n       'parte', 'pasado', 'pasar', 'pasear', 'paseo', 'paz', 'pecera',\n       'pedido', 'pedir', 'pena', 'pensar', 'peor', 'pequenito',\n       'pequeno', 'per', 'perder', 'perfecto', 'permitir', 'persona',\n       'personal', 'pesimo', 'peso', 'peste', 'pez', 'piel', 'pieza',\n       'pileta', 'pintura', 'piramide', 'pisar', 'piscina', 'piso',\n       'pizza', 'placer', 'plan', 'plancha', 'planear', 'planta',\n       'platicar', 'plato', 'playa', 'plaza', 'plazita', 'pleno', 'pm',\n       'poder', 'porfirio', 'porqueria', 'portal', 'poseer',\n       'posibilidad', 'positivo', 'postre', 'precaucion', 'precentacion',\n       'precio', 'precioso', 'precolombino', 'preparatar', 'presentar',\n       'primer', 'primero', 'principal', 'principio', 'probado', 'probar',\n       'prometer', 'promocion', 'promover', 'propiedad', 'propietario',\n       'proteccion', 'provenir', 'proximidad', 'proximo', 'proyectar',\n       'puebla', 'pueblo', 'pues', 'punto', 'qse', 'quedar', 'querer',\n       'quinto', 'rapido', 'razon', 'realmente', 'recamara', 'recepcion',\n       'recepcionista', 'recibir', 'recientemente', 'reclamar',\n       'recoemndar', 'recomendable', 'recomendado', 'recomendar',\n       'recomer', 'reconocido', 'recorrer', 'recorrido', 'reforma',\n       'regular', 'reina', 'rellano', 'remodelacion', 'remodelado',\n       'renovacion', 'repleto', 'reputacion', 'requerir', 'reserva',\n       'reservado', 'reservar', 'respecto', 'respetar', 'respir',\n       'respirar', 'restaurant', 'restaurante', 'resto', 'resultar',\n       'resumir', 'reunion', 'reunir', 'reve', 'revivir', 'rico',\n       'rincon', 'riquisimo', 'rock', 'romantico', 'room', 'roto',\n       'ruido', 'sabado', 'sabiduria', 'sabor', 'salir', 'santo',\n       'secadora', 'sector', 'seguir', 'seguridad', 'seguro', 'seleccion',\n       'semana', 'sencillamente', 'sensacion', 'sentir', 'ser', 'service',\n       'servicial', 'servicio', 'servir', 'si', 'siempre', 'silla',\n       'similar', 'simple', 'simplemente', 'sitio', 'situado',\n       'socializar', 'sofisticado', 'solo', 'sonar', 'sonido', 'spa',\n       'subida', 'subir', 'subrealista', 'sucio', 'sucursal',\n       'suficiente', 'sugerir', 'super', 'superior', 'suponer', 'tambien',\n       'tampoco', 'tardar', 'tarde', 'tarifa', 'taxi', 'teatro',\n       'tedioso', 'telefono', 'temprano', 'tener', 'terminar', 'termino',\n       'terraza', 'terrible', 'tetero', 'tiburon', 'tiempo', 'tienda',\n       'tierra', 'timo', 'tipico', 'tipo', 'toalla', 'tocar', 'tomar',\n       'tono', 'torre', 'total', 'tour', 'tours', 'trabajador',\n       'trabajar', 'traer', 'trago', 'trampa', 'tranquilidad',\n       'tranquilo', 'transporte', 'trasladar', 'tratar', 'treinta',\n       'tres', 'trip', 'tripadvisor', 'triste', 'tu', 'turismo',\n       'turista', 'ubicacion', 'ubicado', 'unico', 'urbano', 'urgente',\n       'utilizado', 'utilizar', 'valer', 'valia', 'varadero', 'variable',\n       'variado', 'variedad', 'varios', 'vedado', 'vendedor', 'vender',\n       'ver', 'verda', 'verdad', 'verde', 'vez', 'viajar', 'viaje',\n       'vida', 'vidanto', 'vidrio', 'vieja', 'viejo', 'virtud', 'visita',\n       'visitante', 'visitar', 'vista', 'vistas', 'vivir', 'vivo',\n       'volver', 'vuelta', 'web', 'yucatan', 'zona'], dtype=object)"
     },
     "execution_count": 114,
     "metadata": {},
     "output_type": "execute_result"
    }
   ],
   "source": [
    "from joblib import load\n",
    "\n",
    "vecto = load('../models/vf7.joblib')\n",
    "new_pipe = load('../models/svm7.joblib')\n",
    "new_pipe['vectorizer'].vectorizer_algorithm.get_feature_names_out()"
   ],
   "metadata": {
    "collapsed": false,
    "ExecuteTime": {
     "end_time": "2024-04-20T18:30:17.657048400Z",
     "start_time": "2024-04-20T18:30:14.347367200Z"
    }
   },
   "id": "a9e79c99b09bfda3",
   "execution_count": 114
  },
  {
   "cell_type": "code",
   "outputs": [
    {
     "data": {
      "text/plain": "                           Review\n0  asombroso  genial espectacular\n1       mierda asqueroso horrible",
      "text/html": "<div>\n<style scoped>\n    .dataframe tbody tr th:only-of-type {\n        vertical-align: middle;\n    }\n\n    .dataframe tbody tr th {\n        vertical-align: top;\n    }\n\n    .dataframe thead th {\n        text-align: right;\n    }\n</style>\n<table border=\"1\" class=\"dataframe\">\n  <thead>\n    <tr style=\"text-align: right;\">\n      <th></th>\n      <th>Review</th>\n    </tr>\n  </thead>\n  <tbody>\n    <tr>\n      <th>0</th>\n      <td>asombroso  genial espectacular</td>\n    </tr>\n    <tr>\n      <th>1</th>\n      <td>mierda asqueroso horrible</td>\n    </tr>\n  </tbody>\n</table>\n</div>"
     },
     "execution_count": 152,
     "metadata": {},
     "output_type": "execute_result"
    }
   ],
   "source": [
    "pred = pd.DataFrame({'Review': ['asombroso  genial espectacular', 'mierda asqueroso horrible']})\n",
    "pred"
   ],
   "metadata": {
    "collapsed": false,
    "ExecuteTime": {
     "end_time": "2024-04-20T18:37:47.396189300Z",
     "start_time": "2024-04-20T18:37:47.387846Z"
    }
   },
   "id": "68d1a444351d8149",
   "execution_count": 152
  },
  {
   "cell_type": "code",
   "outputs": [
    {
     "name": "stdout",
     "output_type": "stream",
     "text": [
      "Lemmatize transformation...\n",
      "Post lemmatization cleaning transformation...\n",
      "Vocabulario ya definido...\n"
     ]
    }
   ],
   "source": [
    "probabilidades = new_pipe.predict_proba(pred.copy())"
   ],
   "metadata": {
    "collapsed": false,
    "ExecuteTime": {
     "end_time": "2024-04-20T19:07:19.889076600Z",
     "start_time": "2024-04-20T19:07:18.815782600Z"
    }
   },
   "id": "d43645f2dadce6e3",
   "execution_count": 188
  },
  {
   "cell_type": "code",
   "outputs": [
    {
     "data": {
      "text/plain": "                           Review  Class     Score\n0  asombroso  genial espectacular      5  0.333038\n1       mierda asqueroso horrible      5  0.244450",
      "text/html": "<div>\n<style scoped>\n    .dataframe tbody tr th:only-of-type {\n        vertical-align: middle;\n    }\n\n    .dataframe tbody tr th {\n        vertical-align: top;\n    }\n\n    .dataframe thead th {\n        text-align: right;\n    }\n</style>\n<table border=\"1\" class=\"dataframe\">\n  <thead>\n    <tr style=\"text-align: right;\">\n      <th></th>\n      <th>Review</th>\n      <th>Class</th>\n      <th>Score</th>\n    </tr>\n  </thead>\n  <tbody>\n    <tr>\n      <th>0</th>\n      <td>asombroso  genial espectacular</td>\n      <td>5</td>\n      <td>0.333038</td>\n    </tr>\n    <tr>\n      <th>1</th>\n      <td>mierda asqueroso horrible</td>\n      <td>5</td>\n      <td>0.244450</td>\n    </tr>\n  </tbody>\n</table>\n</div>"
     },
     "execution_count": 197,
     "metadata": {},
     "output_type": "execute_result"
    }
   ],
   "source": [
    "# consigue el mapeo de clases\n",
    "clases = new_pipe['classifier'].classes_\n",
    "# consigue el índice de mayor probabilidad para cada fila\n",
    "indice_probable = [int(i) for i in np.argmax(probabilidades, axis=1)]\n",
    "# mapea indices de mayor probabilidad con clases\n",
    "clase_probable = [clases[i] for i in indice_probable]\n",
    "# mapea probabilidades\n",
    "score_clase = [probabilidades[i][indice_probable[i]] for i in range(len(probabilidades))]\n",
    "\n",
    "df_respuesta = pd.DataFrame(columns=[\"Review\", \"Class\", \"Score\"])\n",
    "df_respuesta['Review'] = pred['Review']\n",
    "df_respuesta['Class'] = clase_probable\n",
    "df_respuesta['Score'] = score_clase\n",
    "df_respuesta['Class'] = df_respuesta['Class'].astype(int)\n",
    "df_respuesta['Score'] = df_respuesta['Score'].astype(float)\n",
    "df_respuesta"
   ],
   "metadata": {
    "collapsed": false,
    "ExecuteTime": {
     "end_time": "2024-04-20T19:10:15.417111900Z",
     "start_time": "2024-04-20T19:10:15.401201700Z"
    }
   },
   "id": "867a83e595246060",
   "execution_count": 197
  },
  {
   "cell_type": "code",
   "outputs": [
    {
     "name": "stdout",
     "output_type": "stream",
     "text": [
      "<class 'pandas.core.frame.DataFrame'>\n",
      "RangeIndex: 2 entries, 0 to 1\n",
      "Data columns (total 3 columns):\n",
      " #   Column  Non-Null Count  Dtype  \n",
      "---  ------  --------------  -----  \n",
      " 0   Review  2 non-null      object \n",
      " 1   Class   2 non-null      int32  \n",
      " 2   Score   2 non-null      float64\n",
      "dtypes: float64(1), int32(1), object(1)\n",
      "memory usage: 172.0+ bytes\n"
     ]
    }
   ],
   "source": [
    "df_respuesta.info()"
   ],
   "metadata": {
    "collapsed": false,
    "ExecuteTime": {
     "end_time": "2024-04-20T19:10:17.338420700Z",
     "start_time": "2024-04-20T19:10:17.324599800Z"
    }
   },
   "id": "ceb869809dc5a312",
   "execution_count": 198
  },
  {
   "cell_type": "code",
   "outputs": [
    {
     "data": {
      "text/plain": "5"
     },
     "execution_count": 202,
     "metadata": {},
     "output_type": "execute_result"
    }
   ],
   "source": [
    "df_respuesta.iloc[0]['Class']"
   ],
   "metadata": {
    "collapsed": false,
    "ExecuteTime": {
     "end_time": "2024-04-20T19:11:59.386846200Z",
     "start_time": "2024-04-20T19:11:59.353604200Z"
    }
   },
   "id": "3b12f016bb0fa932",
   "execution_count": 202
  },
  {
   "cell_type": "code",
   "outputs": [
    {
     "data": {
      "text/plain": "<1x2060 sparse matrix of type '<class 'numpy.float64'>'\n\twith 0 stored elements in Compressed Sparse Row format>"
     },
     "execution_count": 76,
     "metadata": {},
     "output_type": "execute_result"
    }
   ],
   "source": [
    "vecto.vectorizer_algorithm.transform(pd.DataFrame({'Review': ['favorito']}))"
   ],
   "metadata": {
    "collapsed": false,
    "ExecuteTime": {
     "end_time": "2024-04-20T15:42:12.401927400Z",
     "start_time": "2024-04-20T15:42:12.356789Z"
    }
   },
   "id": "5418b76a3a1f4a8f",
   "execution_count": 76
  },
  {
   "cell_type": "code",
   "outputs": [
    {
     "data": {
      "text/plain": "   0     1     2     3     4     5     6     7     8     9     ...  2050  \\\n0   0.0   0.0   0.0   0.0   0.0   0.0   0.0   0.0   0.0   0.0  ...   0.0   \n\n   2051  2052  2053  2054  2055  2056  2057  2058  2059  \n0   0.0   0.0   0.0   0.0   0.0   0.0   0.0   0.0   0.0  \n\n[1 rows x 2060 columns]",
      "text/html": "<div>\n<style scoped>\n    .dataframe tbody tr th:only-of-type {\n        vertical-align: middle;\n    }\n\n    .dataframe tbody tr th {\n        vertical-align: top;\n    }\n\n    .dataframe thead th {\n        text-align: right;\n    }\n</style>\n<table border=\"1\" class=\"dataframe\">\n  <thead>\n    <tr style=\"text-align: right;\">\n      <th></th>\n      <th>0</th>\n      <th>1</th>\n      <th>2</th>\n      <th>3</th>\n      <th>4</th>\n      <th>5</th>\n      <th>6</th>\n      <th>7</th>\n      <th>8</th>\n      <th>9</th>\n      <th>...</th>\n      <th>2050</th>\n      <th>2051</th>\n      <th>2052</th>\n      <th>2053</th>\n      <th>2054</th>\n      <th>2055</th>\n      <th>2056</th>\n      <th>2057</th>\n      <th>2058</th>\n      <th>2059</th>\n    </tr>\n  </thead>\n  <tbody>\n    <tr>\n      <th>0</th>\n      <td>0.0</td>\n      <td>0.0</td>\n      <td>0.0</td>\n      <td>0.0</td>\n      <td>0.0</td>\n      <td>0.0</td>\n      <td>0.0</td>\n      <td>0.0</td>\n      <td>0.0</td>\n      <td>0.0</td>\n      <td>...</td>\n      <td>0.0</td>\n      <td>0.0</td>\n      <td>0.0</td>\n      <td>0.0</td>\n      <td>0.0</td>\n      <td>0.0</td>\n      <td>0.0</td>\n      <td>0.0</td>\n      <td>0.0</td>\n      <td>0.0</td>\n    </tr>\n  </tbody>\n</table>\n<p>1 rows × 2060 columns</p>\n</div>"
     },
     "execution_count": 77,
     "metadata": {},
     "output_type": "execute_result"
    }
   ],
   "source": [
    "new_vecto = TfidfVectorizer(\n",
    "    decode_error='ignore',\n",
    "    strip_accents='ascii',\n",
    "    analyzer='word',\n",
    "    vocabulary=vecto.features\n",
    ")\n",
    "dffit = pd.DataFrame({'Review': ['hola mundo 123 casa', 'prueba de fit']})\n",
    "vtest = new_vecto.fit_transform(dffit)\n",
    "dftest = pd.DataFrame(vtest.toarray())\n",
    "dftest"
   ],
   "metadata": {
    "collapsed": false,
    "ExecuteTime": {
     "end_time": "2024-04-20T15:42:12.668324300Z",
     "start_time": "2024-04-20T15:42:12.374085900Z"
    }
   },
   "id": "766a20cf7af67b87",
   "execution_count": 77
  },
  {
   "cell_type": "code",
   "outputs": [
    {
     "name": "stdout",
     "output_type": "stream",
     "text": []
    }
   ],
   "source": [
    "res = new_fitted_vecto.transform(pd.DataFrame({'Review': ['zona']}))\n",
    "print(res[0])"
   ],
   "metadata": {
    "collapsed": false,
    "ExecuteTime": {
     "end_time": "2024-04-20T15:42:12.669323400Z",
     "start_time": "2024-04-20T15:42:12.421050600Z"
    }
   },
   "id": "b52211d780a1c1e1",
   "execution_count": 78
  },
  {
   "cell_type": "code",
   "outputs": [
    {
     "name": "stderr",
     "output_type": "stream",
     "text": [
      "2024-04-20 10:45:54 INFO: Checking for updates to resources.json in case models have been updated.  Note: this behavior can be turned off with download_method=None or download_method=DownloadMethod.REUSE_RESOURCES\n"
     ]
    },
    {
     "data": {
      "text/plain": "Downloading https://raw.githubusercontent.com/stanfordnlp/stanza-resources/main/resources_1.8.0.json:   0%|   …",
      "application/vnd.jupyter.widget-view+json": {
       "version_major": 2,
       "version_minor": 0,
       "model_id": "d2e45ebbe83140edadaf01a7d6a6ce70"
      }
     },
     "metadata": {},
     "output_type": "display_data"
    },
    {
     "name": "stderr",
     "output_type": "stream",
     "text": [
      "2024-04-20 10:45:54 INFO: Downloaded file to C:\\Users\\alvar\\stanza_resources\\resources.json\n",
      "2024-04-20 10:45:55 INFO: Loading these models for language: es (Spanish):\n",
      "===============================\n",
      "| Processor | Package         |\n",
      "-------------------------------\n",
      "| tokenize  | ancora          |\n",
      "| mwt       | ancora          |\n",
      "| pos       | ancora_charlm   |\n",
      "| lemma     | ancora_nocharlm |\n",
      "===============================\n",
      "\n",
      "2024-04-20 10:45:55 INFO: Using device: cpu\n",
      "2024-04-20 10:45:55 INFO: Loading: tokenize\n",
      "2024-04-20 10:45:55 INFO: Loading: mwt\n",
      "2024-04-20 10:45:55 INFO: Loading: pos\n",
      "2024-04-20 10:45:57 INFO: Loading: lemma\n",
      "2024-04-20 10:45:57 INFO: Done loading processors!\n"
     ]
    }
   ],
   "source": [
    "ultra_pipe = load('../models/svm6.joblib')"
   ],
   "metadata": {
    "collapsed": false,
    "ExecuteTime": {
     "end_time": "2024-04-20T15:45:57.530491100Z",
     "start_time": "2024-04-20T15:45:54.329460200Z"
    }
   },
   "id": "d3f3e887656901f1",
   "execution_count": 80
  },
  {
   "cell_type": "code",
   "outputs": [
    {
     "name": "stdout",
     "output_type": "stream",
     "text": [
      "Lemmatize transformation...\n",
      "Post lemmatization cleaning transformation...\n",
      "Vocabulario ya definido...\n"
     ]
    }
   ],
   "source": [
    "ppp = ultra_pipe.predict(pd.DataFrame({'Review': ['hola mundo']}))"
   ],
   "metadata": {
    "collapsed": false,
    "ExecuteTime": {
     "end_time": "2024-04-20T16:16:49.559874600Z",
     "start_time": "2024-04-20T16:16:48.106071600Z"
    }
   },
   "id": "2f1569dc0f7c58e1",
   "execution_count": 82
  },
  {
   "cell_type": "code",
   "outputs": [
    {
     "data": {
      "text/plain": "5"
     },
     "execution_count": 87,
     "metadata": {},
     "output_type": "execute_result"
    }
   ],
   "source": [
    "ppp[0]"
   ],
   "metadata": {
    "collapsed": false,
    "ExecuteTime": {
     "end_time": "2024-04-20T16:19:16.902349200Z",
     "start_time": "2024-04-20T16:19:16.891299300Z"
    }
   },
   "id": "9fe5378fd7f26d4f",
   "execution_count": 87
  }
 ],
 "metadata": {
  "kernelspec": {
   "display_name": "Python 3",
   "language": "python",
   "name": "python3"
  },
  "language_info": {
   "codemirror_mode": {
    "name": "ipython",
    "version": 2
   },
   "file_extension": ".py",
   "mimetype": "text/x-python",
   "name": "python",
   "nbconvert_exporter": "python",
   "pygments_lexer": "ipython2",
   "version": "2.7.6"
  }
 },
 "nbformat": 4,
 "nbformat_minor": 5
}
