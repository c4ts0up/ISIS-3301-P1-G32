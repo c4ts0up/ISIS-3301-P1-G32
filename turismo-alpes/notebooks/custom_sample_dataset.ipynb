{
 "cells": [
  {
   "cell_type": "code",
   "execution_count": 14,
   "id": "initial_id",
   "metadata": {
    "collapsed": true,
    "ExecuteTime": {
     "end_time": "2024-04-20T23:17:47.242162900Z",
     "start_time": "2024-04-20T23:17:47.193766200Z"
    }
   },
   "outputs": [],
   "source": [
    "import pandas as pd\n",
    "\n",
    "data = pd.read_csv('../data/raw/tipo2_entrenamiento_estudiantes.csv', sep=',', encoding = 'utf-8')"
   ]
  },
  {
   "cell_type": "code",
   "outputs": [
    {
     "name": "stdout",
     "output_type": "stream",
     "text": [
      "<class 'pandas.core.frame.DataFrame'>\n",
      "RangeIndex: 7875 entries, 0 to 7874\n",
      "Data columns (total 2 columns):\n",
      " #   Column  Non-Null Count  Dtype \n",
      "---  ------  --------------  ----- \n",
      " 0   Review  7875 non-null   object\n",
      " 1   Class   7875 non-null   int64 \n",
      "dtypes: int64(1), object(1)\n",
      "memory usage: 123.2+ KB\n"
     ]
    }
   ],
   "source": [
    "data.info()"
   ],
   "metadata": {
    "collapsed": false,
    "ExecuteTime": {
     "end_time": "2024-04-20T23:17:47.253928600Z",
     "start_time": "2024-04-20T23:17:47.242162900Z"
    }
   },
   "id": "f7c348e1d49ce08d",
   "execution_count": 15
  },
  {
   "cell_type": "code",
   "outputs": [],
   "source": [
    "# Entrena al modelo\n",
    "objective_distribution = {\n",
    "        1 : 0.170,\n",
    "        2 : 0.170,\n",
    "        3 : 0.235,\n",
    "        4 : 0.240,\n",
    "        5 : 0.205\n",
    "    }\n",
    "\n",
    "def custom_sampling(df, objective_distribution):\n",
    "    \"\"\"\n",
    "    Hace un muestreo personalizado de las cinco clases. \n",
    "    Las que estén subrepresentadas se sobremuestruean y las\n",
    "    que estén sobre representadas se submuestrean\n",
    "    \n",
    "    :param df: dataframe de datos procesados\n",
    "    :return: dataframe con distribución uniforme\n",
    "    \"\"\"\n",
    "    total_count = df.shape[0]\n",
    "    \n",
    "    for cls, per in objective_distribution.items():\n",
    "        class_df = df[df['Class'] == cls]\n",
    "        desired_count = int(total_count * per)\n",
    "        \n",
    "        resample_df = class_df.sample(desired_count, replace=True)\n",
    "        # Combine with the existing DataFrame\n",
    "        df = pd.concat([df[df['Class'] != cls], resample_df], ignore_index=True)\n",
    "            \n",
    "    return df"
   ],
   "metadata": {
    "collapsed": false,
    "ExecuteTime": {
     "end_time": "2024-04-20T23:17:47.268648700Z",
     "start_time": "2024-04-20T23:17:47.251182100Z"
    }
   },
   "id": "8ced5fd0f1c30f8d",
   "execution_count": 16
  },
  {
   "cell_type": "code",
   "outputs": [
    {
     "name": "stdout",
     "output_type": "stream",
     "text": [
      "<class 'pandas.core.frame.DataFrame'>\n",
      "RangeIndex: 8030 entries, 0 to 8029\n",
      "Data columns (total 2 columns):\n",
      " #   Column  Non-Null Count  Dtype \n",
      "---  ------  --------------  ----- \n",
      " 0   Review  8030 non-null   object\n",
      " 1   Class   8030 non-null   int64 \n",
      "dtypes: int64(1), object(1)\n",
      "memory usage: 125.6+ KB\n"
     ]
    }
   ],
   "source": [
    "df = custom_sampling(data, objective_distribution)\n",
    "df.info()\n",
    "df = df.sample(frac=0.7)"
   ],
   "metadata": {
    "collapsed": false,
    "ExecuteTime": {
     "end_time": "2024-04-20T23:17:47.290624800Z",
     "start_time": "2024-04-20T23:17:47.256938Z"
    }
   },
   "id": "775480639d11188c",
   "execution_count": 17
  },
  {
   "cell_type": "code",
   "outputs": [],
   "source": [
    "df.to_csv('../data/processed/sampled_tipo2_entrenamiento_estudiantes.csv', sep=',', encoding = 'utf-8', index=False)"
   ],
   "metadata": {
    "collapsed": false,
    "ExecuteTime": {
     "end_time": "2024-04-20T23:17:47.365630900Z",
     "start_time": "2024-04-20T23:17:47.275730Z"
    }
   },
   "id": "7ee7646895a7cd11",
   "execution_count": 18
  },
  {
   "cell_type": "code",
   "outputs": [
    {
     "name": "stdout",
     "output_type": "stream",
     "text": [
      "<class 'pandas.core.frame.DataFrame'>\n",
      "RangeIndex: 5621 entries, 0 to 5620\n",
      "Data columns (total 2 columns):\n",
      " #   Column  Non-Null Count  Dtype \n",
      "---  ------  --------------  ----- \n",
      " 0   Review  5621 non-null   object\n",
      " 1   Class   5621 non-null   int64 \n",
      "dtypes: int64(1), object(1)\n",
      "memory usage: 88.0+ KB\n"
     ]
    }
   ],
   "source": [
    "datacc = pd.read_csv('../data/processed/sampled_tipo2_entrenamiento_estudiantes.csv', sep=',', encoding = 'utf-8')\n",
    "datacc.info()"
   ],
   "metadata": {
    "collapsed": false,
    "ExecuteTime": {
     "end_time": "2024-04-20T23:17:47.379640100Z",
     "start_time": "2024-04-20T23:17:47.332953500Z"
    }
   },
   "id": "75f2c5ed50696e7d",
   "execution_count": 19
  }
 ],
 "metadata": {
  "kernelspec": {
   "display_name": "Python 3",
   "language": "python",
   "name": "python3"
  },
  "language_info": {
   "codemirror_mode": {
    "name": "ipython",
    "version": 2
   },
   "file_extension": ".py",
   "mimetype": "text/x-python",
   "name": "python",
   "nbconvert_exporter": "python",
   "pygments_lexer": "ipython2",
   "version": "2.7.6"
  }
 },
 "nbformat": 4,
 "nbformat_minor": 5
}
